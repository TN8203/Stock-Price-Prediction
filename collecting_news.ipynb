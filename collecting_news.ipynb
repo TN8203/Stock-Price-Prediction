{
 "cells": [
  {
   "cell_type": "markdown",
   "metadata": {},
   "source": [
    "# Libraries"
   ]
  },
  {
   "cell_type": "code",
   "execution_count": 1,
   "metadata": {},
   "outputs": [],
   "source": [
    "# import pandas as pd\n",
    "# import numpy as np\n",
    "# import time\n",
    "# import twython\n",
    "# import requests\n",
    "# import nltk\n",
    "# import warnings\n",
    "# warnings.filterwarnings('ignore')\n",
    "\n",
    "# from htmldate import find_date\n",
    "# from tqdm import tqdm\n",
    "# from bs4 import BeautifulSoup\n",
    "# from nltk.sentiment.vader import SentimentIntensityAnalyzer\n",
    "# nltk.downloader.download('vader_lexicon')\n",
    "# from newspaper import Article"
   ]
  },
  {
   "cell_type": "code",
   "execution_count": 2,
   "metadata": {},
   "outputs": [
    {
     "name": "stderr",
     "output_type": "stream",
     "text": [
      "[nltk_data] Downloading package vader_lexicon to\n",
      "[nltk_data]     C:\\Users\\minhn\\AppData\\Roaming\\nltk_data...\n",
      "[nltk_data]   Package vader_lexicon is already up-to-date!\n"
     ]
    },
    {
     "data": {
      "text/plain": [
       "True"
      ]
     },
     "execution_count": 2,
     "metadata": {},
     "output_type": "execute_result"
    }
   ],
   "source": [
    "import pandas as pd\n",
    "import re\n",
    "from htmldate import find_date\n",
    "from newspaper import Article\n",
    "from bs4 import BeautifulSoup\n",
    "import requests\n",
    "import nltk\n",
    "from nltk.sentiment.vader import SentimentIntensityAnalyzer\n",
    "nltk.downloader.download('vader_lexicon')"
   ]
  },
  {
   "cell_type": "code",
   "execution_count": 3,
   "metadata": {},
   "outputs": [],
   "source": [
    "def download_news(urls, sentiment_analysis=True):\n",
    "    if sentiment_analysis:\n",
    "        articles_df = pd.DataFrame({'publish_date':[], 'title': [],'body_text': [], 'url':[],\n",
    "                                    'neg':[], 'neu':[], 'pos':[], 'compound':[]})\n",
    "    else:\n",
    "        articles_df = pd.DataFrame({'publish_date':[], 'title': [],'body_text': [], 'url':[]})  \n",
    "                                \n",
    "    for link in urls:\n",
    "        article = Article(link)\n",
    "        article.download()\n",
    "        \n",
    "        try:\n",
    "            article.parse()\n",
    "            text = article.text\n",
    "\n",
    "        except: \n",
    "            print(\"I didn't get this\")\n",
    "            continue\n",
    "\n",
    "        # Initialise sentiment analyser  \n",
    "        sid = SentimentIntensityAnalyzer()\n",
    "        # Get positive, negative, neutral and compound scores\n",
    "        polarity = sid.polarity_scores(text)\n",
    "\n",
    "        tmpdic = {'publish_date': find_date(link), 'title': article.title, 'body_text': text, 'url': link}\n",
    "\n",
    "        if sentiment_analysis:\n",
    "            # Initialise sentiment analyser  \n",
    "            sid = SentimentIntensityAnalyzer()\n",
    "            # Get positive, negative, neutral and compound scores\n",
    "            polarity = sid.polarity_scores(text)\n",
    "            # Update ticker with the new entry polarity\n",
    "            tmpdic.update(polarity)\n",
    "        \n",
    "        # tmpdic now has all keys and values needed to populate the DataFrame\n",
    "        articles_df.loc[articles_df.shape[0]] = tmpdic\n",
    "\n",
    "        return articles_df"
   ]
  },
  {
   "cell_type": "code",
   "execution_count": 7,
   "metadata": {},
   "outputs": [],
   "source": [
    "def search_for_raw_urls(ticker, page):\n",
    "    raw_urls = []\n",
    "    for i in page:\n",
    "        search_url = f\"https://www.google.com/search?q=yahoo+finance+{ticker}&tbm=nws&start={i}\"\n",
    "        r = requests.get(search_url)\n",
    "        soup = BeautifulSoup(r.text, 'html.parser')\n",
    "        atags = soup.find_all('a')\n",
    "        hrefs = [link['href'] for link in atags]\n",
    "        raw_urls.extend(hrefs)\n",
    "    return raw_urls\n",
    "\n",
    "def clean_urls(urls, exclude_list=['maps', 'policies', 'preferences', 'accounts', 'support'],\n",
    "                        include_list=[\"https://finance.yahoo.com/news/\"]):\n",
    "    val = []\n",
    "    for url in urls:\n",
    "        if any(exc in url for exc in include_list) and not any(exc in url for exc in exclude_list):\n",
    "            res = re.findall(r'(https?://\\S+html)', url)\n",
    "            val.append(res)\n",
    "    return list(set(val))\n",
    "\n",
    "def get_news_urls(ticker, page, exclude_list=['maps', 'policies', 'preferences', 'accounts', 'support'],\n",
    "                  include_list=[\"https://finance.yahoo.com/news/\"]):\n",
    "    raw_urls = search_for_raw_urls(ticker, page)\n",
    "    return raw_urls\n",
    "    cleaned_urls = clean_urls(raw_urls, exclude_list, include_list)\n",
    "    return cleaned_urls"
   ]
  },
  {
   "cell_type": "code",
   "execution_count": 10,
   "metadata": {},
   "outputs": [
    {
     "data": {
      "text/plain": [
       "['#',\n",
       " '//www.google.com/policies/terms/',\n",
       " '//support.google.com/websearch/answer/86640',\n",
       " '#',\n",
       " '//www.google.com/policies/terms/',\n",
       " '//support.google.com/websearch/answer/86640',\n",
       " '#',\n",
       " '//www.google.com/policies/terms/',\n",
       " '//support.google.com/websearch/answer/86640',\n",
       " '#',\n",
       " '//www.google.com/policies/terms/',\n",
       " '//support.google.com/websearch/answer/86640',\n",
       " '#',\n",
       " '//www.google.com/policies/terms/',\n",
       " '//support.google.com/websearch/answer/86640',\n",
       " '#',\n",
       " '//www.google.com/policies/terms/',\n",
       " '//support.google.com/websearch/answer/86640',\n",
       " '#',\n",
       " '//www.google.com/policies/terms/',\n",
       " '//support.google.com/websearch/answer/86640',\n",
       " '#',\n",
       " '//www.google.com/policies/terms/',\n",
       " '//support.google.com/websearch/answer/86640',\n",
       " '#',\n",
       " '//www.google.com/policies/terms/',\n",
       " '//support.google.com/websearch/answer/86640',\n",
       " '#',\n",
       " '//www.google.com/policies/terms/',\n",
       " '//support.google.com/websearch/answer/86640',\n",
       " '#',\n",
       " '//www.google.com/policies/terms/',\n",
       " '//support.google.com/websearch/answer/86640']"
      ]
     },
     "execution_count": 10,
     "metadata": {},
     "output_type": "execute_result"
    }
   ],
   "source": [
    "raw_urls = search_for_raw_urls(\"aapl\", page=range(0, 101, 10))\n",
    "raw_urls"
   ]
  },
  {
   "cell_type": "code",
   "execution_count": 11,
   "metadata": {},
   "outputs": [
    {
     "data": {
      "text/plain": [
       "[]"
      ]
     },
     "execution_count": 11,
     "metadata": {},
     "output_type": "execute_result"
    }
   ],
   "source": [
    "cleaned_urls = clean_urls(raw_urls)\n",
    "cleaned_urls"
   ]
  },
  {
   "cell_type": "code",
   "execution_count": null,
   "metadata": {},
   "outputs": [],
   "source": []
  }
 ],
 "metadata": {
  "kernelspec": {
   "display_name": ".venv",
   "language": "python",
   "name": "python3"
  },
  "language_info": {
   "codemirror_mode": {
    "name": "ipython",
    "version": 3
   },
   "file_extension": ".py",
   "mimetype": "text/x-python",
   "name": "python",
   "nbconvert_exporter": "python",
   "pygments_lexer": "ipython3",
   "version": "3.11.7"
  }
 },
 "nbformat": 4,
 "nbformat_minor": 2
}
